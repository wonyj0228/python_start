{
  "nbformat": 4,
  "nbformat_minor": 0,
  "metadata": {
    "colab": {
      "name": "파이썬day3 복습.ipynb",
      "provenance": [],
      "collapsed_sections": [],
      "authorship_tag": "ABX9TyNuEB58gx4WueqgzAP+mA28",
      "include_colab_link": true
    },
    "kernelspec": {
      "name": "python3",
      "display_name": "Python 3"
    }
  },
  "cells": [
    {
      "cell_type": "markdown",
      "metadata": {
        "id": "view-in-github",
        "colab_type": "text"
      },
      "source": [
        "<a href=\"https://colab.research.google.com/github/wonyj0228/python_start/blob/main/%ED%8C%8C%EC%9D%B4%EC%8D%ACday3_%EB%B3%B5%EC%8A%B5.ipynb\" target=\"_parent\"><img src=\"https://colab.research.google.com/assets/colab-badge.svg\" alt=\"Open In Colab\"/></a>"
      ]
    },
    {
      "cell_type": "code",
      "metadata": {
        "colab": {
          "base_uri": "https://localhost:8080/"
        },
        "id": "6z0HvYe6QmRq",
        "outputId": "f8232f04-60bc-424a-c3eb-c1ebd55f2e6b"
      },
      "source": [
        "#1번\r\n",
        "id = input('ID를 입력하세요 : ')\r\n",
        "name = input('이름을 입력하세요 : ')\r\n",
        "if id == 'root'and name == '홍길동':\r\n",
        "  print('ID가', id, '인',name,'님이 로그인되었습니다.')\r\n",
        "else:\r\n",
        "  print('ID 또는 이름이 잘못되었습니다.')"
      ],
      "execution_count": 6,
      "outputs": [
        {
          "output_type": "stream",
          "text": [
            "ID를 입력하세요 : wonyj0228\n",
            "이름을 입력하세요 : 원예진\n",
            "ID 또는 이름이 잘못되었습니다.\n"
          ],
          "name": "stdout"
        }
      ]
    },
    {
      "cell_type": "code",
      "metadata": {
        "colab": {
          "base_uri": "https://localhost:8080/"
        },
        "id": "qsJRL0A8WSJI",
        "outputId": "6fcd6065-0ffc-4837-c53d-3e3468dea108"
      },
      "source": [
        "#2번\r\n",
        "n1 = int(input('숫자1을 입력하세요 : '))\r\n",
        "n2 = int(input('숫자2을 입력하세요 : '))\r\n",
        "print('두 수의 합은',n1+n2)\r\n",
        "print('두 수의 차는',n1-n2)\r\n",
        "print('두 수의 곱은',n1*n2)\r\n",
        "print('두 수의 나눗셈은',n1/n2)\r\n",
        "print('두 수를 나누고 나서의 나머지는',n1%n2)"
      ],
      "execution_count": 8,
      "outputs": [
        {
          "output_type": "stream",
          "text": [
            "숫자1을 입력하세요 : 33\n",
            "숫자2을 입력하세요 : 7\n",
            "두 수의 합은 40\n",
            "두 수의 차는 26\n",
            "두 수의 곱은 231\n",
            "두 수의 나눗셈은 4.714285714285714\n",
            "두 수를 나누고 나서의 나머지는 5\n"
          ],
          "name": "stdout"
        }
      ]
    },
    {
      "cell_type": "code",
      "metadata": {
        "colab": {
          "base_uri": "https://localhost:8080/"
        },
        "id": "uqDmTFH4ZGkR",
        "outputId": "1c187ccb-9be3-4315-b879-2cb6b63d0ba7"
      },
      "source": [
        "#3\r\n",
        "name = input('이름을 입력하세요 : ')\r\n",
        "age = int(input('나이를 입력하세요 : '))\r\n",
        "print(name,'님의 10년 후의 나이는', age+10,'세입니다.')"
      ],
      "execution_count": 10,
      "outputs": [
        {
          "output_type": "stream",
          "text": [
            "이름을 입력하세요 : 원예진\n",
            "나이를 입력하세요 : 25\n",
            "원예진 님의 10년 후의 나이는 35 세입니다.\n"
          ],
          "name": "stdout"
        }
      ]
    },
    {
      "cell_type": "code",
      "metadata": {
        "colab": {
          "base_uri": "https://localhost:8080/"
        },
        "id": "pH3zbHCdZs_y",
        "outputId": "1a61665f-c346-4722-b993-a30f9485be72"
      },
      "source": [
        "#4\r\n",
        "money = int(input('엄마 용돈주세요 : '))\r\n",
        "if money == 10000:\r\n",
        "  print('감사합니다~!')\r\n",
        "elif money < 10000:\r\n",
        "  print('엄마 용돈이 너무 적어요.')\r\n",
        "else :\r\n",
        "  print('엄마 용돈이 너무 많아요.')"
      ],
      "execution_count": 14,
      "outputs": [
        {
          "output_type": "stream",
          "text": [
            "엄마 용돈주세요 : 10000\n",
            "감사합니다~!\n"
          ],
          "name": "stdout"
        }
      ]
    },
    {
      "cell_type": "code",
      "metadata": {
        "colab": {
          "base_uri": "https://localhost:8080/"
        },
        "id": "Mega85BraSYd",
        "outputId": "86f1271c-9145-4249-d2b4-49eb1c6e4a33"
      },
      "source": [
        "#5\r\n",
        "number = int(input('숫자를 입력하세요. 짝수인지 홀수인지 판별해 드립니다. : '))\r\n",
        "if number % 2 == 0:\r\n",
        "  print('짝수입니다')\r\n",
        "else:\r\n",
        "  print('홀수입니다')"
      ],
      "execution_count": 15,
      "outputs": [
        {
          "output_type": "stream",
          "text": [
            "숫자를 입력하세요. 짝수인지 홀수인지 판별해 드립니다. : 845465478\n",
            "짝수입니다\n"
          ],
          "name": "stdout"
        }
      ]
    },
    {
      "cell_type": "code",
      "metadata": {
        "colab": {
          "base_uri": "https://localhost:8080/"
        },
        "id": "TsINzGpecDz6",
        "outputId": "6d3e7315-2420-457d-b75d-bbf8797bbe35"
      },
      "source": [
        "#6\r\n",
        "target = 1000\r\n",
        "bonus = 0.2\r\n",
        "now = int(input('당신의 실적을 입력하세요 : '))\r\n",
        "if now > 1000:\r\n",
        "  print('축하합니다. 실적을 달성하셨습니다.!')\r\n",
        "  print('당신의 이번달 보너스는', int(now*bonus),'만원입니다.')\r\n",
        "else:\r\n",
        "  print('목표실적을 달성하지 못했습니다.')"
      ],
      "execution_count": 19,
      "outputs": [
        {
          "output_type": "stream",
          "text": [
            "당신의 실적을 입력하세요 : 1500\n",
            "축하합니다. 실적을 달성하셨습니다.!\n",
            "당신의 이번달 보너스는 300 만원입니다.\n"
          ],
          "name": "stdout"
        }
      ]
    },
    {
      "cell_type": "code",
      "metadata": {
        "colab": {
          "base_uri": "https://localhost:8080/"
        },
        "id": "ECJHuGUudrN9",
        "outputId": "d24a9ba5-1dc1-409c-a24c-7602112b396e"
      },
      "source": [
        "#7\r\n",
        "m_name = input('미사일 이름을 입력하세요 : ')\r\n",
        "m_start = int(input('미사일의 시작값을 입력하세요 : '))\r\n",
        "m_move = float(input('미사일이 움직일 값을 입력하세요 : '))\r\n",
        "print('----------------')\r\n",
        "print('m_name','미사일이',m_start+m_move,'로 이동되었습니다.')"
      ],
      "execution_count": 22,
      "outputs": [
        {
          "output_type": "stream",
          "text": [
            "미사일 이름을 입력하세요 : 슛\n",
            "미사일의 시작값을 입력하세요 : 200\n",
            "미사일이 움직일 값을 입력하세요 : -10.5\n",
            "----------------\n",
            "m_name 미사일이 189.5 로 이동되었습니다.\n"
          ],
          "name": "stdout"
        }
      ]
    },
    {
      "cell_type": "code",
      "metadata": {
        "colab": {
          "base_uri": "https://localhost:8080/"
        },
        "id": "5sJfEihQeVa8",
        "outputId": "851dd148-3f02-4351-d115-ab0d38196432"
      },
      "source": [
        "#8\r\n",
        "money = int(input('받은돈 : '))\r\n",
        "price = int(input('상품의 총액 : '))\r\n",
        "tax = int(price*0.1)\r\n",
        "return_money = int(money-price)\r\n",
        "print('------------')\r\n",
        "print('받은 돈 : ',money)\r\n",
        "print('상품의 총액 : ', price)\r\n",
        "print('부가세 : ', tax)\r\n",
        "print('잔돈 : ', return_money)"
      ],
      "execution_count": 30,
      "outputs": [
        {
          "output_type": "stream",
          "text": [
            "받은돈 : 10000\n",
            "상품의 총액 : 7500\n",
            "------------\n",
            "받은 돈 :  10000\n",
            "상품의 총액 :  7500\n",
            "부가세 :  750\n",
            "잔돈 :  2500\n"
          ],
          "name": "stdout"
        }
      ]
    },
    {
      "cell_type": "code",
      "metadata": {
        "colab": {
          "base_uri": "https://localhost:8080/"
        },
        "id": "NOz7uswNfeP8",
        "outputId": "eb513348-f7c3-4571-fc4d-6711cc6153cd"
      },
      "source": [
        "#9\r\n",
        "for _ in range(1000):\r\n",
        "  print('*', end='')"
      ],
      "execution_count": 35,
      "outputs": [
        {
          "output_type": "stream",
          "text": [
            "****************************************************************************************************************************************************************************************************************************************************************************************************************************************************************************************************************************************************************************************************************************************************************************************************************************************************************************************************************************************************************************************************************************************************************************************************************************************************************************************************************************************"
          ],
          "name": "stdout"
        }
      ]
    },
    {
      "cell_type": "code",
      "metadata": {
        "colab": {
          "base_uri": "https://localhost:8080/"
        },
        "id": "sp9RCe5MgZO0",
        "outputId": "e327c9f5-1c71-4bc9-a8cc-131205f6b932"
      },
      "source": [
        "#10\r\n",
        "for i in range(1,21):\r\n",
        "  print(i)\r\n",
        "for i in range(1,21):\r\n",
        "  print(i,end=' ')"
      ],
      "execution_count": 41,
      "outputs": [
        {
          "output_type": "stream",
          "text": [
            "1\n",
            "2\n",
            "3\n",
            "4\n",
            "5\n",
            "6\n",
            "7\n",
            "8\n",
            "9\n",
            "10\n",
            "11\n",
            "12\n",
            "13\n",
            "14\n",
            "15\n",
            "16\n",
            "17\n",
            "18\n",
            "19\n",
            "20\n",
            "1 2 3 4 5 6 7 8 9 10 11 12 13 14 15 16 17 18 19 20 "
          ],
          "name": "stdout"
        }
      ]
    },
    {
      "cell_type": "code",
      "metadata": {
        "colab": {
          "base_uri": "https://localhost:8080/"
        },
        "id": "irXMM5okhIxR",
        "outputId": "f142274a-9ec0-4f7a-9469-c2de9341960e"
      },
      "source": [
        "#11\r\n",
        "for i in range(1,51):\r\n",
        "  if i % 2 == 0:\r\n",
        "    print(i, end=' ')"
      ],
      "execution_count": 44,
      "outputs": [
        {
          "output_type": "stream",
          "text": [
            "2 4 6 8 10 12 14 16 18 20 22 24 26 28 30 32 34 36 38 40 42 44 46 48 50 "
          ],
          "name": "stdout"
        }
      ]
    },
    {
      "cell_type": "code",
      "metadata": {
        "colab": {
          "base_uri": "https://localhost:8080/"
        },
        "id": "OE3NdpTvh2AV",
        "outputId": "73fd18db-a3da-4a6b-8ed2-07ec9dbab60a"
      },
      "source": [
        "#12\r\n",
        "count = 0\r\n",
        "for i in range(1,1001):\r\n",
        "  if i % 3 ==0:\r\n",
        "    count = count+1\r\n",
        "print(count)"
      ],
      "execution_count": 45,
      "outputs": [
        {
          "output_type": "stream",
          "text": [
            "333\n"
          ],
          "name": "stdout"
        }
      ]
    },
    {
      "cell_type": "code",
      "metadata": {
        "colab": {
          "base_uri": "https://localhost:8080/"
        },
        "id": "e1PopEm8iLQt",
        "outputId": "b1f87b50-6c96-4287-e264-854c045ee2f6"
      },
      "source": [
        "#13\r\n",
        "while True:\r\n",
        "  food = input('먹고 싶은 음식 입력 : ')\r\n",
        "  if food == 'x':\r\n",
        "    print('------------')\r\n",
        "    print('입력을 종료합니다.')\r\n",
        "    break"
      ],
      "execution_count": 47,
      "outputs": [
        {
          "output_type": "stream",
          "text": [
            "먹고 싶은 음식 입력 : 고구마\n",
            "먹고 싶은 음식 입력 : 감자\n",
            "먹고 싶은 음식 입력 : 양파\n",
            "먹고 싶은 음식 입력 : x\n",
            "------------\n",
            "입력을 종료합니다.\n"
          ],
          "name": "stdout"
        }
      ]
    },
    {
      "cell_type": "code",
      "metadata": {
        "colab": {
          "base_uri": "https://localhost:8080/"
        },
        "id": "IFWFoGLaiidz",
        "outputId": "2635389c-631d-4316-983d-c265c7a38cd5"
      },
      "source": [
        "#14\r\n",
        "list = ['떡볶이','순대','튀김','만두','어묵']\r\n",
        "print(list[0],list[len(list)-1])\r\n",
        "print(list[2])\r\n",
        "print(list[2:5])"
      ],
      "execution_count": 58,
      "outputs": [
        {
          "output_type": "stream",
          "text": [
            "떡볶이 어묵\n",
            "튀김\n",
            "['튀김', '만두', '어묵']\n"
          ],
          "name": "stdout"
        }
      ]
    },
    {
      "cell_type": "code",
      "metadata": {
        "colab": {
          "base_uri": "https://localhost:8080/"
        },
        "id": "eJNjghfAi4yI",
        "outputId": "223a7932-8cbc-457c-8447-6ea28b6fd1f1"
      },
      "source": [
        "#15\r\n",
        "list =[]\r\n",
        "for _ in range(4):\r\n",
        "  company = input('회사 이름을 입력하세요 : ')\r\n",
        "  list.append(company)\r\n",
        "print(list)"
      ],
      "execution_count": 61,
      "outputs": [
        {
          "output_type": "stream",
          "text": [
            "회사 이름을 입력하세요 : 네이버\n",
            "회사 이름을 입력하세요 : 카카오\n",
            "회사 이름을 입력하세요 : 구글\n",
            "회사 이름을 입력하세요 : 링크드인\n",
            "['네이버', '카카오', '구글', '링크드인']\n"
          ],
          "name": "stdout"
        }
      ]
    },
    {
      "cell_type": "code",
      "metadata": {
        "colab": {
          "base_uri": "https://localhost:8080/"
        },
        "id": "i4FgKzRhk8Ix",
        "outputId": "84fad74d-1f7b-4e91-ca5c-45c07f3353ac"
      },
      "source": [
        "#16\r\n",
        "list = []\r\n",
        "sum = 0\r\n",
        "\r\n",
        "for _ in range(3):\r\n",
        "  score = int(input('학기 총점 : '))\r\n",
        "  list.append(score)\r\n",
        "  sum = sum + score\r\n",
        "\r\n",
        "print('----------')\r\n",
        "print('총 학기 평균은',sum/3,'점입니다.')"
      ],
      "execution_count": 62,
      "outputs": [
        {
          "output_type": "stream",
          "text": [
            "학기 총점 : 100\n",
            "학기 총점 : 88\n",
            "학기 총점 : 99\n",
            "----------\n",
            "총 학기 평균은 95.66666666666667 점입니다.\n"
          ],
          "name": "stdout"
        }
      ]
    },
    {
      "cell_type": "code",
      "metadata": {
        "colab": {
          "base_uri": "https://localhost:8080/"
        },
        "id": "0ySqhLWCk-cV",
        "outputId": "a15bd0f7-1ffa-4731-c0b0-070403d55709"
      },
      "source": [
        "#17\r\n",
        "answer = '77'\r\n",
        "while True:\r\n",
        "  number = input('숫자를 맞춰보세요 : ')\r\n",
        "  if number == answer:\r\n",
        "    print('정답입니다.')\r\n",
        "    break\r\n",
        "  else :\r\n",
        "    print('정답이 아닙니다. 다시 해보세요.')"
      ],
      "execution_count": 64,
      "outputs": [
        {
          "output_type": "stream",
          "text": [
            "숫자를 맞춰보세요 : 99\n",
            "정답이 아닙니다. 다시 해보세요.\n",
            "숫자를 맞춰보세요 : 8\n",
            "정답이 아닙니다. 다시 해보세요.\n",
            "숫자를 맞춰보세요 : 77\n",
            "정답입니다.\n"
          ],
          "name": "stdout"
        }
      ]
    },
    {
      "cell_type": "code",
      "metadata": {
        "colab": {
          "base_uri": "https://localhost:8080/"
        },
        "id": "RqTsese3nCim",
        "outputId": "24e5bac9-504b-4a31-b61f-fbdc2de5758d"
      },
      "source": [
        "#18\r\n",
        "print('은행 시스템입니다.')\r\n",
        "money = int(input('입금액 : '))\r\n",
        "rate = float(input('이자율 : '))\r\n",
        "future_money = money+money*rate\r\n",
        "print('----------')\r\n",
        "\r\n",
        "print('1년 후 받게 될 금액은 :',int(future_money),'원')"
      ],
      "execution_count": 66,
      "outputs": [
        {
          "output_type": "stream",
          "text": [
            "은행 시스템입니다.\n",
            "입금액 : 10000\n",
            "이자율 : 0.2\n",
            "----------\n",
            "1년 후 받게 될 금액은 : 12000 원\n"
          ],
          "name": "stdout"
        }
      ]
    },
    {
      "cell_type": "code",
      "metadata": {
        "colab": {
          "base_uri": "https://localhost:8080/"
        },
        "id": "Tq9ZLbRxno_U",
        "outputId": "2d8e8d0d-6b01-489e-9c65-dc9f93623769"
      },
      "source": [
        "#20\r\n",
        "list = []\r\n",
        "\r\n",
        "for _ in range(5):\r\n",
        "  site = input('가장 좋아하는 장소를 입력하세요 : ')\r\n",
        "  list.append(site)\r\n",
        "print(list)\r\n",
        "del list[2]\r\n",
        "print(list)\r\n",
        "list[3] = '제주시'\r\n",
        "print(list)\r\n",
        "\r\n",
        "for index in range(0,len(list)):\r\n",
        "  print(index+1,list[index])  \r\n",
        "#index 초기값은 0"
      ],
      "execution_count": 72,
      "outputs": [
        {
          "output_type": "stream",
          "text": [
            "가장 좋아하는 장소를 입력하세요 : 여의도\n",
            "가장 좋아하는 장소를 입력하세요 : 신촌\n",
            "가장 좋아하는 장소를 입력하세요 : 강남\n",
            "가장 좋아하는 장소를 입력하세요 : 속초\n",
            "가장 좋아하는 장소를 입력하세요 : 제주도\n",
            "['여의도', '신촌', '강남', '속초', '제주도']\n",
            "['여의도', '신촌', '속초', '제주도']\n",
            "['여의도', '신촌', '속초', '제주시']\n",
            "1 여의도\n",
            "2 신촌\n",
            "3 속초\n",
            "4 제주시\n"
          ],
          "name": "stdout"
        }
      ]
    },
    {
      "cell_type": "code",
      "metadata": {
        "id": "tSjFzhQdo8ht"
      },
      "source": [
        ""
      ],
      "execution_count": null,
      "outputs": []
    }
  ]
}