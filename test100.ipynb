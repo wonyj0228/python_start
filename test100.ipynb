{
  "nbformat": 4,
  "nbformat_minor": 0,
  "metadata": {
    "colab": {
      "name": "test100.ipynb",
      "provenance": [],
      "mount_file_id": "1cvJmdvUmWdQCuUak32x_dWQOpsgcuc5-",
      "authorship_tag": "ABX9TyNqviKjTWsiLdRToCGTKB1i",
      "include_colab_link": true
    },
    "kernelspec": {
      "name": "python3",
      "display_name": "Python 3"
    },
    "language_info": {
      "name": "python"
    }
  },
  "cells": [
    {
      "cell_type": "markdown",
      "metadata": {
        "id": "view-in-github",
        "colab_type": "text"
      },
      "source": [
        "<a href=\"https://colab.research.google.com/github/wonyj0228/python_start/blob/main/test100.ipynb\" target=\"_parent\"><img src=\"https://colab.research.google.com/assets/colab-badge.svg\" alt=\"Open In Colab\"/></a>"
      ]
    },
    {
      "cell_type": "code",
      "metadata": {
        "colab": {
          "base_uri": "https://localhost:8080/"
        },
        "id": "pURJ29xpdVx2",
        "outputId": "2220c6ac-f61c-4483-fdb2-c78ba6f102fd"
      },
      "source": [
        "print('나는 깃에 갈거야.')"
      ],
      "execution_count": 1,
      "outputs": [
        {
          "output_type": "stream",
          "text": [
            "나는 깃에 갈거야.\n"
          ],
          "name": "stdout"
        }
      ]
    },
    {
      "cell_type": "code",
      "metadata": {
        "id": "V6xgVkLMdZyH"
      },
      "source": [
        ""
      ],
      "execution_count": null,
      "outputs": []
    }
  ]
}