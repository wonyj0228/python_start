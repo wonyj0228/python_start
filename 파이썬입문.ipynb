{
  "nbformat": 4,
  "nbformat_minor": 0,
  "metadata": {
    "colab": {
      "name": "파이썬입문.ipynb",
      "provenance": [],
      "collapsed_sections": [],
      "authorship_tag": "ABX9TyNyvJO0DfojCU2NIoWjdTWq",
      "include_colab_link": true
    },
    "kernelspec": {
      "name": "python3",
      "display_name": "Python 3"
    }
  },
  "cells": [
    {
      "cell_type": "markdown",
      "metadata": {
        "id": "view-in-github",
        "colab_type": "text"
      },
      "source": [
        "<a href=\"https://colab.research.google.com/github/wonyj0228/python_start/blob/main/%ED%8C%8C%EC%9D%B4%EC%8D%AC%EC%9E%85%EB%AC%B8.ipynb\" target=\"_parent\"><img src=\"https://colab.research.google.com/assets/colab-badge.svg\" alt=\"Open In Colab\"/></a>"
      ]
    },
    {
      "cell_type": "code",
      "metadata": {
        "colab": {
          "base_uri": "https://localhost:8080/"
        },
        "id": "pTR3RJBwHT0X",
        "outputId": "c378cdb8-0e2e-4666-9ed6-ffe00a3df26b"
      },
      "source": [
        "print('hello')"
      ],
      "execution_count": null,
      "outputs": [
        {
          "output_type": "stream",
          "text": [
            "hello\n"
          ],
          "name": "stdout"
        }
      ]
    },
    {
      "cell_type": "code",
      "metadata": {
        "colab": {
          "base_uri": "https://localhost:8080/"
        },
        "id": "Fe58VYGQFLKk",
        "outputId": "ae1cbb44-b7da-4be4-dab7-43c61eb79c4d"
      },
      "source": [
        "print('안녕하세요.', end='')\r\n",
        "print('저는 원예진입니다.')\r\n"
      ],
      "execution_count": null,
      "outputs": [
        {
          "output_type": "stream",
          "text": [
            "안녕하세요.저는 원예진입니다.\n"
          ],
          "name": "stdout"
        }
      ]
    },
    {
      "cell_type": "code",
      "metadata": {
        "id": "3oUKx3dwHJxE"
      },
      "source": [
        "# 설명을 씀, 컨트롤 + / , comment, 주석\r\n",
        "# 입력: 데이터를 가지고 옴\r\n",
        "# 처리: 적절한 처리\r\n",
        "# 출력: 처리한 결과를 내보내는 일 (모니터, 파일, db저장, 네트워크 전송 등 print문 같은 output이 나오는 것)"
      ],
      "execution_count": null,
      "outputs": []
    },
    {
      "cell_type": "code",
      "metadata": {
        "colab": {
          "base_uri": "https://localhost:8080/"
        },
        "id": "-n4aXmIyJX0-",
        "outputId": "0c10f573-42e7-4b27-d20f-132f81cccac0"
      },
      "source": [
        "name = input('이름을 입력하세요 >> ') #간단한 처리(기호를 씀): 연산 => 연산을 처리해주는 것 : 연산자\r\n",
        "# = : 과 같은 기호는 대입연산자라고 부름"
      ],
      "execution_count": null,
      "outputs": [
        {
          "output_type": "stream",
          "text": [
            "이름을 입력하세요 >> 원예진\n"
          ],
          "name": "stdout"
        }
      ]
    },
    {
      "cell_type": "code",
      "metadata": {
        "colab": {
          "base_uri": "https://localhost:8080/"
        },
        "id": "crxLZQAwJgm-",
        "outputId": "af2011e1-8dd1-4e61-d270-58ee9ead7797"
      },
      "source": [
        "print(name)"
      ],
      "execution_count": null,
      "outputs": [
        {
          "output_type": "stream",
          "text": [
            "원예진\n"
          ],
          "name": "stdout"
        }
      ]
    },
    {
      "cell_type": "code",
      "metadata": {
        "colab": {
          "base_uri": "https://localhost:8080/"
        },
        "id": "bsytEeIvK-4A",
        "outputId": "22e89318-6881-4f72-9cd4-046003cc9bc4"
      },
      "source": [
        "company = input('소속을 입력하세요 >> ')\r\n",
        "print(company)"
      ],
      "execution_count": null,
      "outputs": [
        {
          "output_type": "stream",
          "text": [
            "소속을 입력하세요 >> mega\n",
            "mega\n"
          ],
          "name": "stdout"
        }
      ]
    },
    {
      "cell_type": "code",
      "metadata": {
        "colab": {
          "base_uri": "https://localhost:8080/"
        },
        "id": "8D6Q8rs-MIEZ",
        "outputId": "2444a1af-a1bd-40f3-9c4f-25237cb48c1e"
      },
      "source": [
        "age = input('나이를 입력하세요 >> ')\r\n",
        "print(age)"
      ],
      "execution_count": null,
      "outputs": [
        {
          "output_type": "stream",
          "text": [
            "나이를 입력하세요 >> 25\n",
            "25\n"
          ],
          "name": "stdout"
        }
      ]
    },
    {
      "cell_type": "code",
      "metadata": {
        "id": "EANmcC7LSG3M"
      },
      "source": [
        "location = '신촌'"
      ],
      "execution_count": null,
      "outputs": []
    },
    {
      "cell_type": "code",
      "metadata": {
        "id": "LK_zyHc6SKrY"
      },
      "source": [
        "number = 2"
      ],
      "execution_count": null,
      "outputs": []
    },
    {
      "cell_type": "code",
      "metadata": {
        "id": "xte6fRCUSPh3"
      },
      "source": [
        "height = 195.5"
      ],
      "execution_count": null,
      "outputs": []
    },
    {
      "cell_type": "code",
      "metadata": {
        "id": "ADNjhgjbS77B"
      },
      "source": [
        "food_lunch = True"
      ],
      "execution_count": null,
      "outputs": []
    },
    {
      "cell_type": "code",
      "metadata": {
        "colab": {
          "base_uri": "https://localhost:8080/"
        },
        "id": "g6gVwnE1S-go",
        "outputId": "07992f66-5191-4548-e209-a09002a03a9f"
      },
      "source": [
        "age2 = input('나이 입력 >> ') #100 \r\n",
        "#컴퓨터에서 입력한 데이터는 타입을 무조건 스트링으로 인식 (100을 입력하면 int가 되는게 아니라 str이 됨)\r\n",
        "#스트링을 정수로 바꾸어쓰는(강제 캐스팅, 용어외우) 결정은 프로그래머가 한다.\r\n",
        "#캐스팅은 RAM에 입력되어있는 스트링을 cpu가 가져와서 int로 바꿈. 따라서 캐스팅 주체는 cpu임\r\n",
        "print('내년 나이는 ', int(age2) + 1)"
      ],
      "execution_count": null,
      "outputs": [
        {
          "output_type": "stream",
          "text": [
            "나이 입력 >> 100\n",
            "내년 나이는  101\n"
          ],
          "name": "stdout"
        }
      ]
    },
    {
      "cell_type": "code",
      "metadata": {
        "colab": {
          "base_uri": "https://localhost:8080/"
        },
        "id": "NgzJcCeKUa04",
        "outputId": "10618211-c071-4101-fe20-ed816a4cac9e"
      },
      "source": [
        "number1 = input('아무 숫자 >> ')\r\n",
        "number2 = input('또 다른 숫자 >> ')\r\n",
        "print('두 수를 더하면 ', int(number1)+int(number2))\r\n",
        "print('두 수를 빼면 ', int(number1)-int(number2))\r\n",
        "print('두 수를 곱하면 ', int(number1)*int(number2))\r\n",
        "print('두 수를 나누면 ', int(number1)/int(number2))"
      ],
      "execution_count": null,
      "outputs": [
        {
          "output_type": "stream",
          "text": [
            "아무 숫자 >> 7\n",
            "또 다른 숫자 >> 8\n",
            "두 수를 더하면  15\n",
            "두 수를 빼면  -1\n",
            "두 수를 곱하면  56\n",
            "두 수를 나누면  0.875\n"
          ],
          "name": "stdout"
        }
      ]
    },
    {
      "cell_type": "code",
      "metadata": {
        "colab": {
          "base_uri": "https://localhost:8080/"
        },
        "id": "Ab43g4Y3XNY4",
        "outputId": "959061a9-fb79-45e0-a6eb-239cc107d3eb"
      },
      "source": [
        "#두 수를 입력받아서, 사칙연산을 해보세요. (가장 많이 쓰이는 코드)\r\n",
        "n1 = int(input('숫자1 >> '))\r\n",
        "n2 = int(input('숫자2 >> '))"
      ],
      "execution_count": null,
      "outputs": [
        {
          "output_type": "stream",
          "text": [
            "숫자1 >> 3\n",
            "숫자2 >> 7\n"
          ],
          "name": "stdout"
        }
      ]
    },
    {
      "cell_type": "code",
      "metadata": {
        "colab": {
          "base_uri": "https://localhost:8080/"
        },
        "id": "otLheUQOYBXH",
        "outputId": "0a9ed9a4-a144-45ee-aa7a-eb51c2c9030a"
      },
      "source": [
        "print('두 수의 합은 ', n1 + n2) #산술연산자(더하기 연산)\r\n",
        "print('두 수의 차는 ', n1 - n2)\r\n",
        "print('두 수의 곱은 ', n1 * n2)  #아스테리크, 에스테리크\r\n",
        "print('두 수의 나누셈은 ', n1 / n2)"
      ],
      "execution_count": null,
      "outputs": [
        {
          "output_type": "stream",
          "text": [
            "두 수의 합은  10\n",
            "두 수의 차는  -4\n",
            "두 수의 곱은  21\n",
            "두 수의 나누셈은  0.42857142857142855\n"
          ],
          "name": "stdout"
        }
      ]
    },
    {
      "cell_type": "code",
      "metadata": {
        "colab": {
          "base_uri": "https://localhost:8080/"
        },
        "id": "calcnR5OYWEk",
        "outputId": "8e22fe1d-ba11-4f8c-9137-8e1187721a76"
      },
      "source": [
        "me = '커피'\r\n",
        "me2 = '우유'\r\n",
        "print(me + me2) #문자열로 결합시켜라(결합연산자)\r\n",
        "# + 더하기 기호는 스프링끼리있으면 결합연산자, 인트끼리있으면 산술연산자"
      ],
      "execution_count": null,
      "outputs": [
        {
          "output_type": "stream",
          "text": [
            "커피우유\n"
          ],
          "name": "stdout"
        }
      ]
    },
    {
      "cell_type": "code",
      "metadata": {
        "id": "uSxeP_8UZaOC"
      },
      "source": [
        "price = str(1000)"
      ],
      "execution_count": null,
      "outputs": []
    },
    {
      "cell_type": "code",
      "metadata": {
        "colab": {
          "base_uri": "https://localhost:8080/"
        },
        "id": "RFxH3fnVZqG3",
        "outputId": "d7d86952-fe94-444b-e862-81f422c48e9a"
      },
      "source": [
        "print(me + ' 가격은 ' + price + '원')\r\n",
        "#str을 print 줄의 price 앞에 붙여도 가능함\r\n",
        "#하지만 좋은 코딩의 기준 = ram을 조금쓰고 cpu를 조금 일하게 하는 코드가 좋은 코드임"
      ],
      "execution_count": null,
      "outputs": [
        {
          "output_type": "stream",
          "text": [
            "커피 가격은 1000원\n"
          ],
          "name": "stdout"
        }
      ]
    },
    {
      "cell_type": "code",
      "metadata": {
        "colab": {
          "base_uri": "https://localhost:8080/"
        },
        "id": "J3O1F-e7asmF",
        "outputId": "9e7350d0-29fc-479e-e406-6eb2c9226d47"
      },
      "source": [
        "coffee_price = int(input('커피값 입력 : '))\r\n",
        "coffee_count = int(input('인원 수 입력 : '))\r\n",
        "sum = coffee_price * coffee_count  #변수(저장공간, 저장공간이름 => 변수명)"
      ],
      "execution_count": null,
      "outputs": [
        {
          "output_type": "stream",
          "text": [
            "커피값 입력 : 5000\n",
            "인원 수 입력 : 5\n"
          ],
          "name": "stdout"
        }
      ]
    },
    {
      "cell_type": "code",
      "metadata": {
        "id": "kG5rBNqZhkfl"
      },
      "source": [
        "# test = 0 #파이썬 = 값을 할당할때 변수가 만들어짐\r\n",
        "# int test; #자바 = 선언"
      ],
      "execution_count": null,
      "outputs": []
    },
    {
      "cell_type": "code",
      "metadata": {
        "colab": {
          "base_uri": "https://localhost:8080/"
        },
        "id": "Ws7EjsppiYVb",
        "outputId": "2336da4f-f322-47fe-a425-fe92d15a0c2b"
      },
      "source": [
        "if sum >= 20000:\r\n",
        "  print('20000원 이상입니다.')\r\n",
        "  print(sum - 2000, '원 결제하세요.')\r\n",
        "else:\r\n",
        "  print('20000원 미만입니다.')\r\n",
        "  print(sum, '원 결제하세요.')"
      ],
      "execution_count": null,
      "outputs": [
        {
          "output_type": "stream",
          "text": [
            "20000원 이상입니다.\n",
            "23000 원 결제하세요.\n"
          ],
          "name": "stdout"
        }
      ]
    },
    {
      "cell_type": "code",
      "metadata": {
        "colab": {
          "base_uri": "https://localhost:8080/"
        },
        "id": "y7sqOpM_izLd",
        "outputId": "5eba956c-84d7-4dae-e433-5bc094a21f9e"
      },
      "source": [
        "principal = input('1년 만기 정기 예금을 얼마나 예치하시겠습니까? > ')\r\n",
        "print('원금이'+principal+'원이시군요.!')\r\n",
        "interest = int(principal)/10\r\n",
        "print('이자는'+ str(interest) +'원입니다.')\r\n",
        "print('원리합계는'+ str(int(principal)+interest)+'입니다.')"
      ],
      "execution_count": null,
      "outputs": [
        {
          "output_type": "stream",
          "text": [
            "1년 만기 정기 예금을 얼마나 예치하시겠습니까? > 20000\n",
            "원금이20000원이시군요.!\n",
            "이자는2000.0원입니다.\n",
            "원리합계는22000.0입니다.\n"
          ],
          "name": "stdout"
        }
      ]
    },
    {
      "cell_type": "code",
      "metadata": {
        "colab": {
          "base_uri": "https://localhost:8080/"
        },
        "id": "_Gl_7scZj31O",
        "outputId": "4a8dc42b-cee7-463c-d8db-f1284a2956f2"
      },
      "source": [
        "english = int(input('영어점수 > '))\r\n",
        "math = int(input('수학점수 > '))\r\n",
        "korean = int(input('국어점수 > '))\r\n",
        "print('세 과목의 합은', english+math+korean,'점')\r\n",
        "sum = english+math+korean\r\n",
        "print('세 과목의 평균은', sum/3,'점')"
      ],
      "execution_count": null,
      "outputs": [
        {
          "output_type": "stream",
          "text": [
            "영어점수 > 76\n",
            "수학점수 > 80\n",
            "국어점수 > 60\n",
            "세 과목의 합은 216 점\n",
            "세 과목의 평균은 72.0 점\n"
          ],
          "name": "stdout"
        }
      ]
    },
    {
      "cell_type": "code",
      "metadata": {
        "colab": {
          "base_uri": "https://localhost:8080/"
        },
        "id": "BARULPnnoQV8",
        "outputId": "1814e94d-7481-4e90-bda7-1315b0b3edc3"
      },
      "source": [
        "time = int(input('지금은 몇 시 입니까? > '))\r\n",
        "if time < 12:\r\n",
        "  print('12시 보다 작으면 점심 전입니다. 맛있게 드세요.!')\r\n",
        "else:\r\n",
        "  print('아니면 점심 후입니다.')"
      ],
      "execution_count": null,
      "outputs": [
        {
          "output_type": "stream",
          "text": [
            "지금은 몇 시 입니까? > 12\n",
            "아니면 점심 후입니다.\n"
          ],
          "name": "stdout"
        }
      ]
    },
    {
      "cell_type": "code",
      "metadata": {
        "colab": {
          "base_uri": "https://localhost:8080/"
        },
        "id": "Nh42YaEMp1NC",
        "outputId": "5b39f43a-8d27-4f3d-830e-6f3995b481e8"
      },
      "source": [
        "id = str(input('아이디 입력 > '))\r\n",
        "if id == 'root':\r\n",
        "  print('로그인 되었습니다.')\r\n",
        "else:\r\n",
        "  print('로그인되지 않았습니다.')"
      ],
      "execution_count": null,
      "outputs": [
        {
          "output_type": "stream",
          "text": [
            "아이디 입력 > root1\n",
            "로그인되지 않았습니다.\n"
          ],
          "name": "stdout"
        }
      ]
    },
    {
      "cell_type": "code",
      "metadata": {
        "colab": {
          "base_uri": "https://localhost:8080/"
        },
        "id": "nOVj18KFruWZ",
        "outputId": "6120591c-eab1-468f-d37b-4af69f9cd10e"
      },
      "source": [
        "sticker_price = 1000\r\n",
        "sticker_count= 3\r\n",
        "bookmarker_price = 2500\r\n",
        "bookmarker_count = 4\r\n",
        "sum = sticker_price * sticker_count + bookmarker_price * bookmarker_count\r\n",
        "print('할인금액은', discount)\r\n",
        "discount = int(sum*0.1)\r\n",
        "print('총 금액은', sum-discount)"
      ],
      "execution_count": null,
      "outputs": [
        {
          "output_type": "stream",
          "text": [
            "할인금액은 1300\n",
            "총 금액은 11700\n"
          ],
          "name": "stdout"
        }
      ]
    },
    {
      "cell_type": "code",
      "metadata": {
        "id": "c19QAvrrufnQ"
      },
      "source": [
        "sticker_price = 1000\r\n",
        "sticker_count = 3\r\n",
        "book_price = 2500\r\n",
        "book_count = 4"
      ],
      "execution_count": null,
      "outputs": []
    },
    {
      "cell_type": "code",
      "metadata": {
        "colab": {
          "base_uri": "https://localhost:8080/"
        },
        "id": "ZgNDrfVsx_Im",
        "outputId": "142bb4a9-b213-4d7a-dbc5-3bc56daed399"
      },
      "source": [
        "sum = sticker_price*sticker_count + book_price*book_count\r\n",
        "print('총 결제 금액은', sum)"
      ],
      "execution_count": null,
      "outputs": [
        {
          "output_type": "stream",
          "text": [
            "총 결제 금액은 13000\n"
          ],
          "name": "stdout"
        }
      ]
    },
    {
      "cell_type": "code",
      "metadata": {
        "colab": {
          "base_uri": "https://localhost:8080/"
        },
        "id": "a3oef1MayUIu",
        "outputId": "80159a71-267f-457c-847b-9596dfbdce1e"
      },
      "source": [
        "discount = sum*0.1     #할인받는 금액\r\n",
        "print('할인받는 금액', discount)"
      ],
      "execution_count": null,
      "outputs": [
        {
          "output_type": "stream",
          "text": [
            "할인받는 금액 1300.0\n"
          ],
          "name": "stdout"
        }
      ]
    },
    {
      "cell_type": "code",
      "metadata": {
        "colab": {
          "base_uri": "https://localhost:8080/"
        },
        "id": "RYAbXd2qytUs",
        "outputId": "c334e9dc-fdfc-4620-b55f-d847fd7ee33f"
      },
      "source": [
        "print('내가 낸 금액은',int(sum-discount),'원')"
      ],
      "execution_count": null,
      "outputs": [
        {
          "output_type": "stream",
          "text": [
            "내가 낸 금액은 11700 원\n"
          ],
          "name": "stdout"
        }
      ]
    },
    {
      "cell_type": "code",
      "metadata": {
        "id": "x25VplksKwZl"
      },
      "source": [
        ""
      ],
      "execution_count": null,
      "outputs": []
    }
  ]
}