{
  "nbformat": 4,
  "nbformat_minor": 0,
  "metadata": {
    "colab": {
      "name": "파이썬제어문.ipynb",
      "provenance": [],
      "collapsed_sections": [],
      "authorship_tag": "ABX9TyN8zul2OFksi9EfAjPmOmu+",
      "include_colab_link": true
    },
    "kernelspec": {
      "name": "python3",
      "display_name": "Python 3"
    }
  },
  "cells": [
    {
      "cell_type": "markdown",
      "metadata": {
        "id": "view-in-github",
        "colab_type": "text"
      },
      "source": [
        "<a href=\"https://colab.research.google.com/github/wonyj0228/python_start/blob/main/%ED%8C%8C%EC%9D%B4%EC%8D%AC%EC%A0%9C%EC%96%B4%EB%AC%B8.ipynb\" target=\"_parent\"><img src=\"https://colab.research.google.com/assets/colab-badge.svg\" alt=\"Open In Colab\"/></a>"
      ]
    },
    {
      "cell_type": "code",
      "metadata": {
        "colab": {
          "base_uri": "https://localhost:8080/"
        },
        "id": "miw4MGViWkYG",
        "outputId": "0b697399-eadb-4af9-cf66-b606a5a7b075"
      },
      "source": [
        "food = input('먹고싶은 음식을 입력하세요 >> ')\r\n",
        "print('당신이 입력한 먹고싶은 음식은', food)"
      ],
      "execution_count": null,
      "outputs": [
        {
          "output_type": "stream",
          "text": [
            "먹고싶은 음식을 입력하세요 >> 회\n",
            "당신이 입력한 먹고싶은 음식은 회\n"
          ],
          "name": "stdout"
        }
      ]
    },
    {
      "cell_type": "code",
      "metadata": {
        "colab": {
          "base_uri": "https://localhost:8080/"
        },
        "id": "9jN64LIAcgeY",
        "outputId": "e3e288a6-47e7-40d3-e523-be2a5709d032"
      },
      "source": [
        "if food == '우동':\r\n",
        "  print('우산을 들고간다')\r\n",
        "  print('돈 들고 간다.')\r\n",
        "  print('우동집으로 간다.')\r\n",
        "elif food == '짜장면': #if 뒤에는 반드시 조건을 쓴다.\r\n",
        "  print('중국집으로 간다.')\r\n",
        "elif food == '라면':\r\n",
        "  print('분식집으로 간다.')\r\n",
        "else : #else 뒤에는 조건을 쓰지 않는다!!!!!!!\r\n",
        "  print('집에서 먹는다.')\r\n",
        "# 만약 파이썬에서 조건문 중 아무것도 쓰고싶지 않을땐 pass 써야함. 왜냐면 들여쓰기가 기본이기때문에 pass 안쓰면 오류가 뜸."
      ],
      "execution_count": null,
      "outputs": [
        {
          "output_type": "stream",
          "text": [
            "집에서 먹는다.\n"
          ],
          "name": "stdout"
        }
      ]
    },
    {
      "cell_type": "code",
      "metadata": {
        "colab": {
          "base_uri": "https://localhost:8080/"
        },
        "id": "mkwzaz0XdZUh",
        "outputId": "ccbe04bc-b2b8-47d7-cbd5-01a76d0ebae6"
      },
      "source": [
        "start = 0  #시작값\r\n",
        "while start < 10:   #True #while 옆에는 조건쓰기\r\n",
        "  print(start, '> 내가 반복')\r\n",
        "  start = start+1 #증감식"
      ],
      "execution_count": null,
      "outputs": [
        {
          "output_type": "stream",
          "text": [
            "0 > 내가 반복\n",
            "1 > 내가 반복\n",
            "2 > 내가 반복\n",
            "3 > 내가 반복\n",
            "4 > 내가 반복\n",
            "5 > 내가 반복\n",
            "6 > 내가 반복\n",
            "7 > 내가 반복\n",
            "8 > 내가 반복\n",
            "9 > 내가 반복\n"
          ],
          "name": "stdout"
        }
      ]
    },
    {
      "cell_type": "code",
      "metadata": {
        "colab": {
          "base_uri": "https://localhost:8080/"
        },
        "id": "MgqkIV8Ffcvb",
        "outputId": "e38e28fe-a739-43b1-9eb3-cd8127975552"
      },
      "source": [
        "for x in range(0,10):  #(0,10,1) = 0부터 10까지 1씩증가해서 / (10) = 0이 생략 / (0,10,2) = 2씩 증가\r\n",
        "  print(x, '나도 반복')   #0~9, 기본값이 1씩 증가"
      ],
      "execution_count": null,
      "outputs": [
        {
          "output_type": "stream",
          "text": [
            "0 나도 반복\n",
            "1 나도 반복\n",
            "2 나도 반복\n",
            "3 나도 반복\n",
            "4 나도 반복\n",
            "5 나도 반복\n",
            "6 나도 반복\n",
            "7 나도 반복\n",
            "8 나도 반복\n",
            "9 나도 반복\n"
          ],
          "name": "stdout"
        }
      ]
    },
    {
      "cell_type": "code",
      "metadata": {
        "colab": {
          "base_uri": "https://localhost:8080/"
        },
        "id": "VzgD5QGjjWD7",
        "outputId": "f90433ff-0bd9-4b54-9022-2bfe6e399932"
      },
      "source": [
        "for _ in range(0,10,1):\r\n",
        "  print('나도 반복')"
      ],
      "execution_count": null,
      "outputs": [
        {
          "output_type": "stream",
          "text": [
            "나도 반복\n",
            "나도 반복\n",
            "나도 반복\n",
            "나도 반복\n",
            "나도 반복\n",
            "나도 반복\n",
            "나도 반복\n",
            "나도 반복\n",
            "나도 반복\n",
            "나도 반복\n"
          ],
          "name": "stdout"
        }
      ]
    },
    {
      "cell_type": "code",
      "metadata": {
        "colab": {
          "base_uri": "https://localhost:8080/"
        },
        "id": "y7u-spT-kVGo",
        "outputId": "346cccf7-5540-4eea-b54c-c0d6b9f71354"
      },
      "source": [
        "time = int(input ('지금 몇 시인가요? '))\r\n",
        "if time < 11:\r\n",
        "  print('굿모닝')\r\n",
        "elif time <15:\r\n",
        "  print('굿애프터눈')  #만약 입력값이 12, cpu 처리 여기서 끝@@\r\n",
        "elif time <20:\r\n",
        "  print('굿이브닝')\r\n",
        "else:\r\n",
        "  print('굿나잇')"
      ],
      "execution_count": null,
      "outputs": [
        {
          "output_type": "stream",
          "text": [
            "지금 몇시인가요? 12\n",
            "굿애프터눈\n"
          ],
          "name": "stdout"
        }
      ]
    },
    {
      "cell_type": "code",
      "metadata": {
        "colab": {
          "base_uri": "https://localhost:8080/"
        },
        "id": "ezjW8N5olZpX",
        "outputId": "0aa7564d-971c-465d-d47b-aabe5c39a47b"
      },
      "source": [
        "month = int(input('이번 달은 몇 월 인가요?'))\r\n",
        "if 2 <month<6 :\r\n",
        "  print('봄')\r\n",
        "elif 5 <month<9 :\r\n",
        "  print('여름')\r\n",
        "elif 8 <month<12 :\r\n",
        "  print('가을')\r\n",
        "else:\r\n",
        "  print('겨울')"
      ],
      "execution_count": null,
      "outputs": [
        {
          "output_type": "stream",
          "text": [
            "이번 달은 몇 월 인가요?1\n",
            "겨울\n"
          ],
          "name": "stdout"
        }
      ]
    },
    {
      "cell_type": "code",
      "metadata": {
        "id": "KgJYlKKwl_Ly"
      },
      "source": [
        ""
      ],
      "execution_count": null,
      "outputs": []
    }
  ]
}